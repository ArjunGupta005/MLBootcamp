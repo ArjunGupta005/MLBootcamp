{
  "nbformat": 4,
  "nbformat_minor": 0,
  "metadata": {
    "colab": {
      "provenance": []
    },
    "kernelspec": {
      "name": "python3",
      "display_name": "Python 3"
    },
    "language_info": {
      "name": "python"
    }
  },
  "cells": [
    {
      "cell_type": "code",
      "execution_count": 24,
      "metadata": {
        "id": "AB-WvMtzR0T-"
      },
      "outputs": [],
      "source": [
        "from torchvision import datasets\n",
        "from torchvision.transforms import ToTensor"
      ]
    },
    {
      "cell_type": "code",
      "source": [
        "train_data=datasets.MNIST(\n",
        "    root='data',\n",
        "    train=True,\n",
        "    transform=ToTensor(),\n",
        "    download=True\n",
        ")\n",
        "\n",
        "test_data=datasets.MNIST(\n",
        "    root='data',\n",
        "    train=False,\n",
        "    transform=ToTensor(),\n",
        "    download=True\n",
        ")"
      ],
      "metadata": {
        "id": "0KhZPd34Uw9J"
      },
      "execution_count": 25,
      "outputs": []
    },
    {
      "cell_type": "code",
      "source": [
        "train_data"
      ],
      "metadata": {
        "colab": {
          "base_uri": "https://localhost:8080/"
        },
        "id": "WvhyNQkOVpw-",
        "outputId": "bb623296-945d-44a6-fbd5-558d1ba86cf7"
      },
      "execution_count": 26,
      "outputs": [
        {
          "output_type": "execute_result",
          "data": {
            "text/plain": [
              "Dataset MNIST\n",
              "    Number of datapoints: 60000\n",
              "    Root location: data\n",
              "    Split: Train\n",
              "    StandardTransform\n",
              "Transform: ToTensor()"
            ]
          },
          "metadata": {},
          "execution_count": 26
        }
      ]
    },
    {
      "cell_type": "code",
      "source": [
        "train_data.data.shape"
      ],
      "metadata": {
        "colab": {
          "base_uri": "https://localhost:8080/"
        },
        "id": "UIMWOU_lWKAT",
        "outputId": "e51bfd56-62bd-438b-9ce4-b6764f0d6aca"
      },
      "execution_count": 27,
      "outputs": [
        {
          "output_type": "execute_result",
          "data": {
            "text/plain": [
              "torch.Size([60000, 28, 28])"
            ]
          },
          "metadata": {},
          "execution_count": 27
        }
      ]
    },
    {
      "cell_type": "code",
      "source": [
        "test_data.data.shape"
      ],
      "metadata": {
        "colab": {
          "base_uri": "https://localhost:8080/"
        },
        "id": "Wu3TKaONWY4F",
        "outputId": "04ead3bf-eb5c-41b0-830d-3bcaec2afe65"
      },
      "execution_count": 28,
      "outputs": [
        {
          "output_type": "execute_result",
          "data": {
            "text/plain": [
              "torch.Size([10000, 28, 28])"
            ]
          },
          "metadata": {},
          "execution_count": 28
        }
      ]
    },
    {
      "cell_type": "code",
      "source": [
        "train_data.targets.size()"
      ],
      "metadata": {
        "colab": {
          "base_uri": "https://localhost:8080/"
        },
        "id": "NquIYA-9WgJj",
        "outputId": "e73bb728-1086-4a24-d0e4-a4c0b3925f7e"
      },
      "execution_count": 29,
      "outputs": [
        {
          "output_type": "execute_result",
          "data": {
            "text/plain": [
              "torch.Size([60000])"
            ]
          },
          "metadata": {},
          "execution_count": 29
        }
      ]
    },
    {
      "cell_type": "code",
      "source": [
        "train_data.targets"
      ],
      "metadata": {
        "colab": {
          "base_uri": "https://localhost:8080/"
        },
        "id": "6FEyDJrrWl9g",
        "outputId": "122bc3db-ac6e-4ff6-f700-3e978b866ebc"
      },
      "execution_count": 30,
      "outputs": [
        {
          "output_type": "execute_result",
          "data": {
            "text/plain": [
              "tensor([5, 0, 4,  ..., 5, 6, 8])"
            ]
          },
          "metadata": {},
          "execution_count": 30
        }
      ]
    },
    {
      "cell_type": "code",
      "source": [
        "from torch.utils.data import DataLoader\n",
        "\n",
        "loaders={\n",
        "    'train':DataLoader(train_data,batch_size=100,shuffle=True,num_workers=1),\n",
        "    'test':DataLoader(test_data,batch_size=100,shuffle=True,num_workers=1),\n",
        "}"
      ],
      "metadata": {
        "id": "4oy6RI4dWzDx"
      },
      "execution_count": 31,
      "outputs": []
    },
    {
      "cell_type": "code",
      "source": [
        "loaders"
      ],
      "metadata": {
        "colab": {
          "base_uri": "https://localhost:8080/"
        },
        "id": "Wb571ZzMXl6x",
        "outputId": "194e883b-908e-405d-80dc-54fb6ea3e251"
      },
      "execution_count": 32,
      "outputs": [
        {
          "output_type": "execute_result",
          "data": {
            "text/plain": [
              "{'train': <torch.utils.data.dataloader.DataLoader at 0x78b3707af760>,\n",
              " 'test': <torch.utils.data.dataloader.DataLoader at 0x78b3707ac310>}"
            ]
          },
          "metadata": {},
          "execution_count": 32
        }
      ]
    },
    {
      "cell_type": "code",
      "source": [
        "import torch.nn as nn\n",
        "import torch.nn.functional as F\n",
        "import torch.optim as optim\n",
        "class CNN(nn.Module):\n",
        "\n",
        "  def __init__(self):\n",
        "      super(CNN, self).__init__()\n",
        "\n",
        "      self.conv1=nn.Conv2d(1,10, kernel_size=5)\n",
        "      self.conv2=nn.Conv2d(10, 20, kernel_size=5)\n",
        "      self.conv2_drop=nn.Dropout2d()\n",
        "      self.fcl=nn.Linear(320,50)\n",
        "      self.fc2=nn.Linear(50,10)\n",
        "\n",
        "  def forward(self,x):\n",
        "      x=F.relu(F.max_pool2d(self.conv1(x),2))\n",
        "      x=F.relu(F.max_pool2d(self.conv2_drop(self.conv2(x)),2))\n",
        "      x=x.view(-1,320)\n",
        "      x=F.relu(self.fcl(x))\n",
        "      x=F.dropout(x,training=self.training)\n",
        "      x=self.fc2(x)\n",
        "\n",
        "      return F.softmax(x)\n"
      ],
      "metadata": {
        "id": "pP7m9VghXn_L"
      },
      "execution_count": 50,
      "outputs": []
    },
    {
      "cell_type": "code",
      "source": [
        "import torch\n",
        "\n",
        "device=torch.device('cuda' if torch.cuda.is_available() else 'cpu')\n",
        "\n",
        "model=CNN().to(device)\n",
        "\n",
        "optimizer=optim.Adam(model.parameters(), lr=0.001)\n",
        "\n",
        "loss_fn=nn.CrossEntropyLoss()\n",
        "\n",
        "def train (epoch):\n",
        "  model.train()\n",
        "  for batch_idx, (data, target) in enumerate(loaders['train']):\n",
        "      data, target=data.to(device),target.to(device)\n",
        "      optimizer.zero_grad()\n",
        "      output=model(data)\n",
        "      loss=loss_fn(output, target)\n",
        "      loss.backward()\n",
        "      optimizer.step()\n",
        "      if batch_idx % 20==0:\n",
        "        print(f'Train Epoch: {epoch} [{batch_idx*len(data)}/{len(loaders[\"train\"].dataset)} ({100. *batch_idx/len(loaders[\"train\"]):.0f}%)]\\t{loss.item():.6f}')\n",
        "\n",
        "def test():\n",
        "    model.eval()\n",
        "    test_loss=0\n",
        "    correct=0\n",
        "    with torch.no_grad():\n",
        "      for data, target in loaders['test']:\n",
        "          data, target=data.to(device), target.to(device)\n",
        "          output=model(data)\n",
        "          test_loss+=loss_fn(output,target).item()\n",
        "          pred=output.argmax(dim=1,keepdim=True)\n",
        "          correct+=pred.eq(target.view_as(pred)).sum().item()\n",
        "    test_loss/=len(loaders['test'].dataset)\n",
        "    print(f'\\nTest set: Averageloss: {test_loss:.4f}, Accuracy {correct}/{len(loaders[\"test\"].dataset)} ({100. *correct/len(loaders[\"test\"].dataset):.0f}%\\n)')\n"
      ],
      "metadata": {
        "id": "joZL8FB3cJ4d"
      },
      "execution_count": 51,
      "outputs": []
    },
    {
      "cell_type": "code",
      "source": [
        "for epoch in range(1,11):\n",
        "    train(epoch)\n",
        "    test()"
      ],
      "metadata": {
        "colab": {
          "base_uri": "https://localhost:8080/"
        },
        "id": "uixIf143soer",
        "outputId": "8f25ecfe-542b-4005-89c0-9fcb43a268d6"
      },
      "execution_count": 52,
      "outputs": [
        {
          "output_type": "stream",
          "name": "stderr",
          "text": [
            "<ipython-input-50-f12eb155408e>:23: UserWarning: Implicit dimension choice for softmax has been deprecated. Change the call to include dim=X as an argument.\n",
            "  return F.softmax(x)\n"
          ]
        },
        {
          "output_type": "stream",
          "name": "stdout",
          "text": [
            "Train Epoch: 1 [0/60000 (0%)]\t2.303010\n",
            "Train Epoch: 1 [2000/60000 (3%)]\t2.289122\n",
            "Train Epoch: 1 [4000/60000 (7%)]\t2.162274\n",
            "Train Epoch: 1 [6000/60000 (10%)]\t1.993135\n",
            "Train Epoch: 1 [8000/60000 (13%)]\t1.860807\n",
            "Train Epoch: 1 [10000/60000 (17%)]\t1.874460\n",
            "Train Epoch: 1 [12000/60000 (20%)]\t1.840283\n",
            "Train Epoch: 1 [14000/60000 (23%)]\t1.833710\n",
            "Train Epoch: 1 [16000/60000 (27%)]\t1.751261\n",
            "Train Epoch: 1 [18000/60000 (30%)]\t1.811383\n",
            "Train Epoch: 1 [20000/60000 (33%)]\t1.786676\n",
            "Train Epoch: 1 [22000/60000 (37%)]\t1.768453\n",
            "Train Epoch: 1 [24000/60000 (40%)]\t1.745931\n",
            "Train Epoch: 1 [26000/60000 (43%)]\t1.687768\n",
            "Train Epoch: 1 [28000/60000 (47%)]\t1.737221\n",
            "Train Epoch: 1 [30000/60000 (50%)]\t1.715371\n",
            "Train Epoch: 1 [32000/60000 (53%)]\t1.685678\n",
            "Train Epoch: 1 [34000/60000 (57%)]\t1.677255\n",
            "Train Epoch: 1 [36000/60000 (60%)]\t1.670336\n",
            "Train Epoch: 1 [38000/60000 (63%)]\t1.735231\n",
            "Train Epoch: 1 [40000/60000 (67%)]\t1.682316\n",
            "Train Epoch: 1 [42000/60000 (70%)]\t1.644792\n",
            "Train Epoch: 1 [44000/60000 (73%)]\t1.677927\n",
            "Train Epoch: 1 [46000/60000 (77%)]\t1.636353\n",
            "Train Epoch: 1 [48000/60000 (80%)]\t1.687473\n",
            "Train Epoch: 1 [50000/60000 (83%)]\t1.630752\n",
            "Train Epoch: 1 [52000/60000 (87%)]\t1.622336\n",
            "Train Epoch: 1 [54000/60000 (90%)]\t1.595478\n",
            "Train Epoch: 1 [56000/60000 (93%)]\t1.599898\n",
            "Train Epoch: 1 [58000/60000 (97%)]\t1.658559\n",
            "\n",
            "Test set: Averageloss: 0.0154, Accuracy 9217/10000 (92%\n",
            ")\n",
            "Train Epoch: 2 [0/60000 (0%)]\t1.637872\n",
            "Train Epoch: 2 [2000/60000 (3%)]\t1.633052\n",
            "Train Epoch: 2 [4000/60000 (7%)]\t1.552392\n",
            "Train Epoch: 2 [6000/60000 (10%)]\t1.638286\n",
            "Train Epoch: 2 [8000/60000 (13%)]\t1.681244\n",
            "Train Epoch: 2 [10000/60000 (17%)]\t1.578946\n",
            "Train Epoch: 2 [12000/60000 (20%)]\t1.585277\n",
            "Train Epoch: 2 [14000/60000 (23%)]\t1.632333\n",
            "Train Epoch: 2 [16000/60000 (27%)]\t1.627145\n",
            "Train Epoch: 2 [18000/60000 (30%)]\t1.607336\n",
            "Train Epoch: 2 [20000/60000 (33%)]\t1.637173\n",
            "Train Epoch: 2 [22000/60000 (37%)]\t1.619925\n",
            "Train Epoch: 2 [24000/60000 (40%)]\t1.624048\n",
            "Train Epoch: 2 [26000/60000 (43%)]\t1.563321\n",
            "Train Epoch: 2 [28000/60000 (47%)]\t1.598139\n",
            "Train Epoch: 2 [30000/60000 (50%)]\t1.613505\n",
            "Train Epoch: 2 [32000/60000 (53%)]\t1.595166\n",
            "Train Epoch: 2 [34000/60000 (57%)]\t1.637664\n",
            "Train Epoch: 2 [36000/60000 (60%)]\t1.558630\n",
            "Train Epoch: 2 [38000/60000 (63%)]\t1.605795\n",
            "Train Epoch: 2 [40000/60000 (67%)]\t1.573408\n",
            "Train Epoch: 2 [42000/60000 (70%)]\t1.566022\n",
            "Train Epoch: 2 [44000/60000 (73%)]\t1.577648\n",
            "Train Epoch: 2 [46000/60000 (77%)]\t1.561264\n",
            "Train Epoch: 2 [48000/60000 (80%)]\t1.579528\n",
            "Train Epoch: 2 [50000/60000 (83%)]\t1.568339\n",
            "Train Epoch: 2 [52000/60000 (87%)]\t1.582024\n",
            "Train Epoch: 2 [54000/60000 (90%)]\t1.615415\n",
            "Train Epoch: 2 [56000/60000 (93%)]\t1.600006\n",
            "Train Epoch: 2 [58000/60000 (97%)]\t1.584558\n",
            "\n",
            "Test set: Averageloss: 0.0152, Accuracy 9418/10000 (94%\n",
            ")\n",
            "Train Epoch: 3 [0/60000 (0%)]\t1.586630\n",
            "Train Epoch: 3 [2000/60000 (3%)]\t1.583582\n",
            "Train Epoch: 3 [4000/60000 (7%)]\t1.600663\n",
            "Train Epoch: 3 [6000/60000 (10%)]\t1.582904\n",
            "Train Epoch: 3 [8000/60000 (13%)]\t1.631133\n",
            "Train Epoch: 3 [10000/60000 (17%)]\t1.560002\n",
            "Train Epoch: 3 [12000/60000 (20%)]\t1.563376\n",
            "Train Epoch: 3 [14000/60000 (23%)]\t1.582945\n",
            "Train Epoch: 3 [16000/60000 (27%)]\t1.600846\n",
            "Train Epoch: 3 [18000/60000 (30%)]\t1.574245\n",
            "Train Epoch: 3 [20000/60000 (33%)]\t1.613575\n",
            "Train Epoch: 3 [22000/60000 (37%)]\t1.583464\n",
            "Train Epoch: 3 [24000/60000 (40%)]\t1.593994\n",
            "Train Epoch: 3 [26000/60000 (43%)]\t1.593147\n",
            "Train Epoch: 3 [28000/60000 (47%)]\t1.551291\n",
            "Train Epoch: 3 [30000/60000 (50%)]\t1.579242\n",
            "Train Epoch: 3 [32000/60000 (53%)]\t1.556690\n",
            "Train Epoch: 3 [34000/60000 (57%)]\t1.588216\n",
            "Train Epoch: 3 [36000/60000 (60%)]\t1.601325\n",
            "Train Epoch: 3 [38000/60000 (63%)]\t1.561043\n",
            "Train Epoch: 3 [40000/60000 (67%)]\t1.546642\n",
            "Train Epoch: 3 [42000/60000 (70%)]\t1.600571\n",
            "Train Epoch: 3 [44000/60000 (73%)]\t1.573887\n",
            "Train Epoch: 3 [46000/60000 (77%)]\t1.579890\n",
            "Train Epoch: 3 [48000/60000 (80%)]\t1.534855\n",
            "Train Epoch: 3 [50000/60000 (83%)]\t1.605378\n",
            "Train Epoch: 3 [52000/60000 (87%)]\t1.517944\n",
            "Train Epoch: 3 [54000/60000 (90%)]\t1.601474\n",
            "Train Epoch: 3 [56000/60000 (93%)]\t1.597525\n",
            "Train Epoch: 3 [58000/60000 (97%)]\t1.576896\n",
            "\n",
            "Test set: Averageloss: 0.0151, Accuracy 9534/10000 (95%\n",
            ")\n",
            "Train Epoch: 4 [0/60000 (0%)]\t1.582124\n",
            "Train Epoch: 4 [2000/60000 (3%)]\t1.546116\n",
            "Train Epoch: 4 [4000/60000 (7%)]\t1.578848\n",
            "Train Epoch: 4 [6000/60000 (10%)]\t1.592865\n",
            "Train Epoch: 4 [8000/60000 (13%)]\t1.542293\n",
            "Train Epoch: 4 [10000/60000 (17%)]\t1.537674\n",
            "Train Epoch: 4 [12000/60000 (20%)]\t1.562906\n",
            "Train Epoch: 4 [14000/60000 (23%)]\t1.582608\n",
            "Train Epoch: 4 [16000/60000 (27%)]\t1.552698\n",
            "Train Epoch: 4 [18000/60000 (30%)]\t1.573813\n",
            "Train Epoch: 4 [20000/60000 (33%)]\t1.528736\n",
            "Train Epoch: 4 [22000/60000 (37%)]\t1.511289\n",
            "Train Epoch: 4 [24000/60000 (40%)]\t1.568300\n",
            "Train Epoch: 4 [26000/60000 (43%)]\t1.554406\n",
            "Train Epoch: 4 [28000/60000 (47%)]\t1.561717\n",
            "Train Epoch: 4 [30000/60000 (50%)]\t1.531673\n",
            "Train Epoch: 4 [32000/60000 (53%)]\t1.555471\n",
            "Train Epoch: 4 [34000/60000 (57%)]\t1.601623\n",
            "Train Epoch: 4 [36000/60000 (60%)]\t1.563215\n",
            "Train Epoch: 4 [38000/60000 (63%)]\t1.594001\n",
            "Train Epoch: 4 [40000/60000 (67%)]\t1.536117\n",
            "Train Epoch: 4 [42000/60000 (70%)]\t1.550295\n",
            "Train Epoch: 4 [44000/60000 (73%)]\t1.556015\n",
            "Train Epoch: 4 [46000/60000 (77%)]\t1.548634\n",
            "Train Epoch: 4 [48000/60000 (80%)]\t1.551871\n",
            "Train Epoch: 4 [50000/60000 (83%)]\t1.588683\n",
            "Train Epoch: 4 [52000/60000 (87%)]\t1.528471\n",
            "Train Epoch: 4 [54000/60000 (90%)]\t1.537715\n",
            "Train Epoch: 4 [56000/60000 (93%)]\t1.531717\n",
            "Train Epoch: 4 [58000/60000 (97%)]\t1.560216\n",
            "\n",
            "Test set: Averageloss: 0.0150, Accuracy 9595/10000 (96%\n",
            ")\n",
            "Train Epoch: 5 [0/60000 (0%)]\t1.562131\n",
            "Train Epoch: 5 [2000/60000 (3%)]\t1.531353\n",
            "Train Epoch: 5 [4000/60000 (7%)]\t1.561861\n",
            "Train Epoch: 5 [6000/60000 (10%)]\t1.604101\n",
            "Train Epoch: 5 [8000/60000 (13%)]\t1.548087\n",
            "Train Epoch: 5 [10000/60000 (17%)]\t1.602204\n",
            "Train Epoch: 5 [12000/60000 (20%)]\t1.544318\n",
            "Train Epoch: 5 [14000/60000 (23%)]\t1.596864\n",
            "Train Epoch: 5 [16000/60000 (27%)]\t1.532934\n",
            "Train Epoch: 5 [18000/60000 (30%)]\t1.521697\n",
            "Train Epoch: 5 [20000/60000 (33%)]\t1.596772\n",
            "Train Epoch: 5 [22000/60000 (37%)]\t1.587836\n",
            "Train Epoch: 5 [24000/60000 (40%)]\t1.573940\n",
            "Train Epoch: 5 [26000/60000 (43%)]\t1.610129\n",
            "Train Epoch: 5 [28000/60000 (47%)]\t1.584013\n",
            "Train Epoch: 5 [30000/60000 (50%)]\t1.551465\n",
            "Train Epoch: 5 [32000/60000 (53%)]\t1.513240\n",
            "Train Epoch: 5 [34000/60000 (57%)]\t1.565421\n",
            "Train Epoch: 5 [36000/60000 (60%)]\t1.530279\n",
            "Train Epoch: 5 [38000/60000 (63%)]\t1.540493\n",
            "Train Epoch: 5 [40000/60000 (67%)]\t1.566375\n",
            "Train Epoch: 5 [42000/60000 (70%)]\t1.582390\n",
            "Train Epoch: 5 [44000/60000 (73%)]\t1.573939\n",
            "Train Epoch: 5 [46000/60000 (77%)]\t1.634373\n",
            "Train Epoch: 5 [48000/60000 (80%)]\t1.511956\n",
            "Train Epoch: 5 [50000/60000 (83%)]\t1.576766\n",
            "Train Epoch: 5 [52000/60000 (87%)]\t1.532932\n",
            "Train Epoch: 5 [54000/60000 (90%)]\t1.531334\n",
            "Train Epoch: 5 [56000/60000 (93%)]\t1.566918\n",
            "Train Epoch: 5 [58000/60000 (97%)]\t1.551527\n",
            "\n",
            "Test set: Averageloss: 0.0150, Accuracy 9608/10000 (96%\n",
            ")\n",
            "Train Epoch: 6 [0/60000 (0%)]\t1.538285\n",
            "Train Epoch: 6 [2000/60000 (3%)]\t1.540509\n",
            "Train Epoch: 6 [4000/60000 (7%)]\t1.618544\n",
            "Train Epoch: 6 [6000/60000 (10%)]\t1.549660\n",
            "Train Epoch: 6 [8000/60000 (13%)]\t1.547930\n",
            "Train Epoch: 6 [10000/60000 (17%)]\t1.573818\n",
            "Train Epoch: 6 [12000/60000 (20%)]\t1.535146\n",
            "Train Epoch: 6 [14000/60000 (23%)]\t1.543749\n",
            "Train Epoch: 6 [16000/60000 (27%)]\t1.573750\n",
            "Train Epoch: 6 [18000/60000 (30%)]\t1.541613\n",
            "Train Epoch: 6 [20000/60000 (33%)]\t1.528191\n",
            "Train Epoch: 6 [22000/60000 (37%)]\t1.534898\n",
            "Train Epoch: 6 [24000/60000 (40%)]\t1.526638\n",
            "Train Epoch: 6 [26000/60000 (43%)]\t1.536028\n",
            "Train Epoch: 6 [28000/60000 (47%)]\t1.551092\n",
            "Train Epoch: 6 [30000/60000 (50%)]\t1.532662\n",
            "Train Epoch: 6 [32000/60000 (53%)]\t1.579936\n",
            "Train Epoch: 6 [34000/60000 (57%)]\t1.490571\n",
            "Train Epoch: 6 [36000/60000 (60%)]\t1.552948\n",
            "Train Epoch: 6 [38000/60000 (63%)]\t1.560413\n",
            "Train Epoch: 6 [40000/60000 (67%)]\t1.526395\n",
            "Train Epoch: 6 [42000/60000 (70%)]\t1.562772\n",
            "Train Epoch: 6 [44000/60000 (73%)]\t1.542482\n",
            "Train Epoch: 6 [46000/60000 (77%)]\t1.584599\n",
            "Train Epoch: 6 [48000/60000 (80%)]\t1.561924\n",
            "Train Epoch: 6 [50000/60000 (83%)]\t1.548247\n",
            "Train Epoch: 6 [52000/60000 (87%)]\t1.540050\n",
            "Train Epoch: 6 [54000/60000 (90%)]\t1.533782\n",
            "Train Epoch: 6 [56000/60000 (93%)]\t1.545571\n",
            "Train Epoch: 6 [58000/60000 (97%)]\t1.580419\n",
            "\n",
            "Test set: Averageloss: 0.0150, Accuracy 9635/10000 (96%\n",
            ")\n",
            "Train Epoch: 7 [0/60000 (0%)]\t1.530693\n",
            "Train Epoch: 7 [2000/60000 (3%)]\t1.600073\n",
            "Train Epoch: 7 [4000/60000 (7%)]\t1.543813\n",
            "Train Epoch: 7 [6000/60000 (10%)]\t1.524505\n",
            "Train Epoch: 7 [8000/60000 (13%)]\t1.549712\n",
            "Train Epoch: 7 [10000/60000 (17%)]\t1.577250\n",
            "Train Epoch: 7 [12000/60000 (20%)]\t1.549902\n",
            "Train Epoch: 7 [14000/60000 (23%)]\t1.539047\n",
            "Train Epoch: 7 [16000/60000 (27%)]\t1.542082\n",
            "Train Epoch: 7 [18000/60000 (30%)]\t1.534340\n",
            "Train Epoch: 7 [20000/60000 (33%)]\t1.521697\n",
            "Train Epoch: 7 [22000/60000 (37%)]\t1.528689\n",
            "Train Epoch: 7 [24000/60000 (40%)]\t1.518145\n",
            "Train Epoch: 7 [26000/60000 (43%)]\t1.572180\n",
            "Train Epoch: 7 [28000/60000 (47%)]\t1.608400\n",
            "Train Epoch: 7 [30000/60000 (50%)]\t1.539554\n",
            "Train Epoch: 7 [32000/60000 (53%)]\t1.528268\n",
            "Train Epoch: 7 [34000/60000 (57%)]\t1.552590\n",
            "Train Epoch: 7 [36000/60000 (60%)]\t1.540677\n",
            "Train Epoch: 7 [38000/60000 (63%)]\t1.576945\n",
            "Train Epoch: 7 [40000/60000 (67%)]\t1.528832\n",
            "Train Epoch: 7 [42000/60000 (70%)]\t1.503994\n",
            "Train Epoch: 7 [44000/60000 (73%)]\t1.518416\n",
            "Train Epoch: 7 [46000/60000 (77%)]\t1.508685\n",
            "Train Epoch: 7 [48000/60000 (80%)]\t1.529231\n",
            "Train Epoch: 7 [50000/60000 (83%)]\t1.519784\n",
            "Train Epoch: 7 [52000/60000 (87%)]\t1.579361\n",
            "Train Epoch: 7 [54000/60000 (90%)]\t1.531206\n",
            "Train Epoch: 7 [56000/60000 (93%)]\t1.535461\n",
            "Train Epoch: 7 [58000/60000 (97%)]\t1.561404\n",
            "\n",
            "Test set: Averageloss: 0.0150, Accuracy 9652/10000 (97%\n",
            ")\n",
            "Train Epoch: 8 [0/60000 (0%)]\t1.513153\n",
            "Train Epoch: 8 [2000/60000 (3%)]\t1.515029\n",
            "Train Epoch: 8 [4000/60000 (7%)]\t1.509093\n",
            "Train Epoch: 8 [6000/60000 (10%)]\t1.540361\n",
            "Train Epoch: 8 [8000/60000 (13%)]\t1.553589\n",
            "Train Epoch: 8 [10000/60000 (17%)]\t1.529582\n",
            "Train Epoch: 8 [12000/60000 (20%)]\t1.551481\n",
            "Train Epoch: 8 [14000/60000 (23%)]\t1.512809\n",
            "Train Epoch: 8 [16000/60000 (27%)]\t1.505087\n",
            "Train Epoch: 8 [18000/60000 (30%)]\t1.556582\n",
            "Train Epoch: 8 [20000/60000 (33%)]\t1.559669\n",
            "Train Epoch: 8 [22000/60000 (37%)]\t1.518885\n",
            "Train Epoch: 8 [24000/60000 (40%)]\t1.525941\n",
            "Train Epoch: 8 [26000/60000 (43%)]\t1.514363\n",
            "Train Epoch: 8 [28000/60000 (47%)]\t1.523433\n",
            "Train Epoch: 8 [30000/60000 (50%)]\t1.548828\n",
            "Train Epoch: 8 [32000/60000 (53%)]\t1.534107\n",
            "Train Epoch: 8 [34000/60000 (57%)]\t1.581198\n",
            "Train Epoch: 8 [36000/60000 (60%)]\t1.562934\n",
            "Train Epoch: 8 [38000/60000 (63%)]\t1.522736\n",
            "Train Epoch: 8 [40000/60000 (67%)]\t1.525474\n",
            "Train Epoch: 8 [42000/60000 (70%)]\t1.518867\n",
            "Train Epoch: 8 [44000/60000 (73%)]\t1.521390\n",
            "Train Epoch: 8 [46000/60000 (77%)]\t1.524011\n",
            "Train Epoch: 8 [48000/60000 (80%)]\t1.562547\n",
            "Train Epoch: 8 [50000/60000 (83%)]\t1.527945\n",
            "Train Epoch: 8 [52000/60000 (87%)]\t1.542112\n",
            "Train Epoch: 8 [54000/60000 (90%)]\t1.593881\n",
            "Train Epoch: 8 [56000/60000 (93%)]\t1.543489\n",
            "Train Epoch: 8 [58000/60000 (97%)]\t1.512711\n",
            "\n",
            "Test set: Averageloss: 0.0149, Accuracy 9657/10000 (97%\n",
            ")\n",
            "Train Epoch: 9 [0/60000 (0%)]\t1.567400\n",
            "Train Epoch: 9 [2000/60000 (3%)]\t1.527531\n",
            "Train Epoch: 9 [4000/60000 (7%)]\t1.529067\n",
            "Train Epoch: 9 [6000/60000 (10%)]\t1.525481\n",
            "Train Epoch: 9 [8000/60000 (13%)]\t1.573267\n",
            "Train Epoch: 9 [10000/60000 (17%)]\t1.555205\n",
            "Train Epoch: 9 [12000/60000 (20%)]\t1.549668\n",
            "Train Epoch: 9 [14000/60000 (23%)]\t1.558303\n",
            "Train Epoch: 9 [16000/60000 (27%)]\t1.518209\n",
            "Train Epoch: 9 [18000/60000 (30%)]\t1.530235\n",
            "Train Epoch: 9 [20000/60000 (33%)]\t1.527811\n",
            "Train Epoch: 9 [22000/60000 (37%)]\t1.570858\n",
            "Train Epoch: 9 [24000/60000 (40%)]\t1.542711\n",
            "Train Epoch: 9 [26000/60000 (43%)]\t1.491611\n",
            "Train Epoch: 9 [28000/60000 (47%)]\t1.535469\n",
            "Train Epoch: 9 [30000/60000 (50%)]\t1.551192\n",
            "Train Epoch: 9 [32000/60000 (53%)]\t1.530015\n",
            "Train Epoch: 9 [34000/60000 (57%)]\t1.547565\n",
            "Train Epoch: 9 [36000/60000 (60%)]\t1.516380\n",
            "Train Epoch: 9 [38000/60000 (63%)]\t1.536963\n",
            "Train Epoch: 9 [40000/60000 (67%)]\t1.523744\n",
            "Train Epoch: 9 [42000/60000 (70%)]\t1.596086\n",
            "Train Epoch: 9 [44000/60000 (73%)]\t1.526492\n",
            "Train Epoch: 9 [46000/60000 (77%)]\t1.546693\n",
            "Train Epoch: 9 [48000/60000 (80%)]\t1.529441\n",
            "Train Epoch: 9 [50000/60000 (83%)]\t1.601821\n",
            "Train Epoch: 9 [52000/60000 (87%)]\t1.580216\n",
            "Train Epoch: 9 [54000/60000 (90%)]\t1.502027\n",
            "Train Epoch: 9 [56000/60000 (93%)]\t1.588346\n",
            "Train Epoch: 9 [58000/60000 (97%)]\t1.524666\n",
            "\n",
            "Test set: Averageloss: 0.0149, Accuracy 9675/10000 (97%\n",
            ")\n",
            "Train Epoch: 10 [0/60000 (0%)]\t1.537085\n",
            "Train Epoch: 10 [2000/60000 (3%)]\t1.524286\n",
            "Train Epoch: 10 [4000/60000 (7%)]\t1.508555\n",
            "Train Epoch: 10 [6000/60000 (10%)]\t1.547115\n",
            "Train Epoch: 10 [8000/60000 (13%)]\t1.549974\n",
            "Train Epoch: 10 [10000/60000 (17%)]\t1.510185\n",
            "Train Epoch: 10 [12000/60000 (20%)]\t1.540506\n",
            "Train Epoch: 10 [14000/60000 (23%)]\t1.538202\n",
            "Train Epoch: 10 [16000/60000 (27%)]\t1.548889\n",
            "Train Epoch: 10 [18000/60000 (30%)]\t1.554326\n",
            "Train Epoch: 10 [20000/60000 (33%)]\t1.570108\n",
            "Train Epoch: 10 [22000/60000 (37%)]\t1.525383\n",
            "Train Epoch: 10 [24000/60000 (40%)]\t1.530276\n",
            "Train Epoch: 10 [26000/60000 (43%)]\t1.525484\n",
            "Train Epoch: 10 [28000/60000 (47%)]\t1.505325\n",
            "Train Epoch: 10 [30000/60000 (50%)]\t1.538800\n",
            "Train Epoch: 10 [32000/60000 (53%)]\t1.534096\n",
            "Train Epoch: 10 [34000/60000 (57%)]\t1.536609\n",
            "Train Epoch: 10 [36000/60000 (60%)]\t1.530735\n",
            "Train Epoch: 10 [38000/60000 (63%)]\t1.482058\n",
            "Train Epoch: 10 [40000/60000 (67%)]\t1.539200\n",
            "Train Epoch: 10 [42000/60000 (70%)]\t1.522468\n",
            "Train Epoch: 10 [44000/60000 (73%)]\t1.520269\n",
            "Train Epoch: 10 [46000/60000 (77%)]\t1.550651\n",
            "Train Epoch: 10 [48000/60000 (80%)]\t1.496264\n",
            "Train Epoch: 10 [50000/60000 (83%)]\t1.569028\n",
            "Train Epoch: 10 [52000/60000 (87%)]\t1.566193\n",
            "Train Epoch: 10 [54000/60000 (90%)]\t1.533887\n",
            "Train Epoch: 10 [56000/60000 (93%)]\t1.571027\n",
            "Train Epoch: 10 [58000/60000 (97%)]\t1.508243\n",
            "\n",
            "Test set: Averageloss: 0.0149, Accuracy 9709/10000 (97%\n",
            ")\n"
          ]
        }
      ]
    },
    {
      "cell_type": "code",
      "source": [
        "device"
      ],
      "metadata": {
        "colab": {
          "base_uri": "https://localhost:8080/"
        },
        "id": "9vMekoIOxqor",
        "outputId": "547f5816-2d96-41d6-ce71-b13f88e306b1"
      },
      "execution_count": 53,
      "outputs": [
        {
          "output_type": "execute_result",
          "data": {
            "text/plain": [
              "device(type='cpu')"
            ]
          },
          "metadata": {},
          "execution_count": 53
        }
      ]
    },
    {
      "cell_type": "code",
      "source": [
        "import matplotlib.pyplot as plt\n",
        "model.eval()\n",
        "data, target = test_data[0]\n",
        "data = data.unsqueeze(0).to(device)\n",
        "output = model(data)\n",
        "prediction = output.argmax(dim=1, keepdim=True).item()\n",
        "print(f'predict: {prediction}')\n",
        "image = data.squeeze(0).squeeze(0).cpu().numpy()\n",
        "plt.imshow(image, cmap='gray')\n",
        "plt.show()"
      ],
      "metadata": {
        "colab": {
          "base_uri": "https://localhost:8080/",
          "height": 482
        },
        "id": "YKfLbVppxuUU",
        "outputId": "3f95708f-0ed7-4f87-d543-832c7c2d5da7"
      },
      "execution_count": 57,
      "outputs": [
        {
          "output_type": "stream",
          "name": "stdout",
          "text": [
            "predict: 7\n"
          ]
        },
        {
          "output_type": "stream",
          "name": "stderr",
          "text": [
            "<ipython-input-50-f12eb155408e>:23: UserWarning: Implicit dimension choice for softmax has been deprecated. Change the call to include dim=X as an argument.\n",
            "  return F.softmax(x)\n"
          ]
        },
        {
          "output_type": "display_data",
          "data": {
            "text/plain": [
              "<Figure size 640x480 with 1 Axes>"
            ],
            "image/png": "[encoded data removed]"
          },
          "metadata": {}
        }
      ]
    },
    {
      "cell_type": "code",
      "source": [
        "model.eval()\n",
        "data, target = test_data[1]\n",
        "data = data.unsqueeze(0).to(device)\n",
        "output = model(data)\n",
        "prediction = output.argmax(dim=1, keepdim=True).item()\n",
        "print(f'predict: {prediction}')\n",
        "image = data.squeeze(0).squeeze(0).cpu().numpy()\n",
        "plt.imshow(image, cmap='gray')\n",
        "plt.show()"
      ],
      "metadata": {
        "colab": {
          "base_uri": "https://localhost:8080/",
          "height": 482
        },
        "id": "7EMcPTeT2CVw",
        "outputId": "2f0f270e-85aa-4b58-fa73-1bd7081ca5e5"
      },
      "execution_count": 61,
      "outputs": [
        {
          "output_type": "stream",
          "name": "stdout",
          "text": [
            "predict: 2\n"
          ]
        },
        {
          "output_type": "stream",
          "name": "stderr",
          "text": [
            "<ipython-input-50-f12eb155408e>:23: UserWarning: Implicit dimension choice for softmax has been deprecated. Change the call to include dim=X as an argument.\n",
            "  return F.softmax(x)\n"
          ]
        },
        {
          "output_type": "display_data",
          "data": {
            "text/plain": [
              "<Figure size 640x480 with 1 Axes>"
            ],
            "image/png": "[encoded data removed]"
          },
          "metadata": {}
        }
      ]
    },
    {
      "cell_type": "code",
      "source": [
        "model.eval()\n",
        "data, target = test_data[2]\n",
        "data = data.unsqueeze(0).to(device)\n",
        "output = model(data)\n",
        "prediction = output.argmax(dim=1, keepdim=True).item()\n",
        "print(f'predict: {prediction}')\n",
        "image = data.squeeze(0).squeeze(0).cpu().numpy()\n",
        "plt.imshow(image, cmap='gray')\n",
        "plt.show()"
      ],
      "metadata": {
        "colab": {
          "base_uri": "https://localhost:8080/",
          "height": 482
        },
        "id": "BgIxp1A83IYD",
        "outputId": "45052530-0cd3-4188-f4bd-107479bbc331"
      },
      "execution_count": 62,
      "outputs": [
        {
          "output_type": "stream",
          "name": "stderr",
          "text": [
            "<ipython-input-50-f12eb155408e>:23: UserWarning: Implicit dimension choice for softmax has been deprecated. Change the call to include dim=X as an argument.\n",
            "  return F.softmax(x)\n"
          ]
        },
        {
          "output_type": "stream",
          "name": "stdout",
          "text": [
            "predict: 1\n"
          ]
        },
        {
          "output_type": "display_data",
          "data": {
            "text/plain": [
              "<Figure size 640x480 with 1 Axes>"
            ],
            "image/png": "[encoded data removed]"
          },
          "metadata": {}
        }
      ]
    }
  ]
}